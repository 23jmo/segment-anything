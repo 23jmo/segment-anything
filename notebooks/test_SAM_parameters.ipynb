{
 "cells": [
  {
   "cell_type": "code",
   "execution_count": null,
   "metadata": {},
   "outputs": [],
   "source": [
    "import numpy as np\n",
    "import torch\n",
    "import matplotlib.pyplot as plt\n",
    "import cv2"
   ]
  },
  {
   "cell_type": "code",
   "execution_count": null,
   "metadata": {},
   "outputs": [],
   "source": [
    "def show_anns(anns):\n",
    "    if len(anns) == 0:\n",
    "        return\n",
    "    sorted_anns = sorted(anns, key=(lambda x: x['area']), reverse=True)\n",
    "    ax = plt.gca()\n",
    "    ax.set_autoscale_on(False)\n",
    "\n",
    "    img = np.ones((sorted_anns[0]['segmentation'].shape[0], sorted_anns[0]['segmentation'].shape[1], 4))\n",
    "    img[:,:,3] = 0\n",
    "    for ann in sorted_anns:\n",
    "        m = ann['segmentation']\n",
    "        color_mask = np.concatenate([np.random.random(3), [0.35]])\n",
    "        img[m] = color_mask\n",
    "    ax.imshow(img)"
   ]
  },
  {
   "cell_type": "code",
   "execution_count": null,
   "metadata": {},
   "outputs": [],
   "source": [
    "image = cv2.imread('../data/images/000_img.png')\n",
    "image = cv2.cvtColor(image, cv2.COLOR_BGR2RGB)"
   ]
  },
  {
   "cell_type": "code",
   "execution_count": null,
   "metadata": {},
   "outputs": [],
   "source": [
    "plt.figure(figsize=(20,20))\n",
    "plt.imshow(image)\n",
    "plt.axis('off')\n",
    "plt.show()"
   ]
  },
  {
   "cell_type": "code",
   "execution_count": null,
   "metadata": {},
   "outputs": [],
   "source": [
    "import glob\n",
    "\n",
    "images = glob.glob('../data/images/*')"
   ]
  },
  {
   "cell_type": "code",
   "execution_count": null,
   "metadata": {},
   "outputs": [],
   "source": [
    "import sys\n",
    "sys.path.append(\"..\")\n",
    "\n",
    "\n",
    "\n",
    "\n",
    "from segment_anything import sam_model_registry, SamAutomaticMaskGenerator, SamPredictor\n",
    "\n",
    "sam_checkpoint = \"../sam_vit_h_4b8939.pth\"\n",
    "model_type = \"vit_h\"\n",
    "\n",
    "device = \"cuda\"\n",
    "\n",
    "sam = sam_model_registry[model_type](checkpoint=sam_checkpoint)\n",
    "sam.to(device=device)\n",
    "\n",
    "mask_generator = SamAutomaticMaskGenerator(sam)"
   ]
  },
  {
   "cell_type": "code",
   "execution_count": null,
   "metadata": {},
   "outputs": [],
   "source": [
    "def mask_generator_factory(points_per_side, pred_iou_thresh, stability_score_thresh, crop_n_layers, crop_n_points_downscale_factor, min_mask_region_area):\n",
    "    return SamAutomaticMaskGenerator(sam, points_per_side=points_per_side, pred_iou_thresh=pred_iou_thresh, stability_score_thresh=stability_score_thresh, crop_n_layers=crop_n_layers, crop_n_points_downscale_factor=crop_n_points_downscale_factor, min_mask_region_area=min_mask_region_area)"
   ]
  },
  {
   "cell_type": "code",
   "execution_count": null,
   "metadata": {},
   "outputs": [],
   "source": [
    "import time\n",
    "initial_time = time.time\n",
    "masks = mask_generator.generate(image)\n",
    "print(time.time-initial_time)"
   ]
  },
  {
   "cell_type": "code",
   "execution_count": null,
   "metadata": {},
   "outputs": [],
   "source": [
    "data = {\n",
    "    'image' : [],\n",
    "    'anns' : [],\n",
    "    'points_per_side' : [],\n",
    "    'pred_iou_thresh' : [],\n",
    "    'stability_score_thresh' : [],\n",
    "    'crop_n_layers' : [],\n",
    "    'crop_n_points_downscale_factor' : [],\n",
    "    'min_mask_region_area' : [],\n",
    "    'time' : []\n",
    "}"
   ]
  },
  {
   "cell_type": "code",
   "execution_count": null,
   "metadata": {},
   "outputs": [],
   "source": [
    "for points_per_side in {32, 64}:\n",
    "    for pred_iou_thresh in {0.8, 0.85, 0.9}:\n",
    "        for stability_score_thresh in range(0.8, 1, 0.05):\n",
    "            for crop_n_layers in {0, 1, 2}:\n",
    "                for crop_n_points_downscale_factor in {1, 2}:\n",
    "                    for min_mask_region_area in {0, 50, 100}:\n",
    "                        \n",
    "                        initial_time = time.time\n",
    "                        \n",
    "                        mask_generator = mask_generator_factory(points_per_side, pred_iou_thresh, stability_score_thresh, crop_n_layers, crop_n_points_downscale_factor, min_mask_region_area)\n",
    "                        masks = mask_generator.generate(image)\n",
    "                        \n",
    "                        print(\"time elapsed: \" + str(time.time-initial_time))\n",
    "                        print(\"points_per_side: \", points_per_side, \"pred_iou_thresh: \", pred_iou_thresh, \"stability_score_thresh: \", stability_score_thresh, \"crop_n_layers: \", crop_n_layers, \"crop_n_points_downscale_factor: \", crop_n_points_downscale_factor, \"min_mask_region_area: \", min_mask_region_area)\n",
    "\n",
    "                        plt.figure(figsize=(20,20))\n",
    "                        plt.imshow(masks)\n",
    "                        plt.axis('off')\n",
    "                        plt.show()\n",
    "\n",
    "                        predictor = SamPredictor(sam, mask_generator)\n",
    "                        anns = predictor.predict(image)\n",
    "                        show_anns(anns)\n",
    "                        plt.show()\n",
    "                        \n",
    "                        data['image'].append(image)\n",
    "                        data['anns'].append(anns)\n",
    "                        data['points_per_side'].append(points_per_side)\n",
    "                        data['pred_iou_thresh'].append(pred_iou_thresh)\n",
    "                        data['stability_score_thresh'].append(stability_score_thresh)\n",
    "                        data['crop_n_layers'].append(crop_n_layers)\n",
    "                        data['crop_n_points_downscale_factor'].append(crop_n_points_downscale_factor)\n",
    "                        data['min_mask_region_area'].append(min_mask_region_area)\n",
    "                        data['time'].append(time.time-initial_time)\n",
    "                        "
   ]
  },
  {
   "cell_type": "code",
   "execution_count": null,
   "metadata": {},
   "outputs": [],
   "source": []
  }
 ],
 "metadata": {
  "language_info": {
   "name": "python"
  }
 },
 "nbformat": 4,
 "nbformat_minor": 2
}
